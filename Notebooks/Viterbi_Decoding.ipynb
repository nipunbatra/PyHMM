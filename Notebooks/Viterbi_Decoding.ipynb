{
 "metadata": {
  "name": "Viterbi Decoding"
 },
 "nbformat": 3,
 "nbformat_minor": 0,
 "worksheets": [
  {
   "cells": [
    {
     "cell_type": "heading",
     "level": 1,
     "metadata": {},
     "source": [
      "Introduction"
     ]
    },
    {
     "cell_type": "markdown",
     "metadata": {},
     "source": [
      "This IPython Notebook illustrates the Viterbi Algorithm. This is a solution to the 2nd problem as mentioned in Rabiner's classic tutorial [1] on Hidden Markov Models. We take the classic Rain/Sunny example as quoted on Wikipedia page for Hidden Markov Models [2].    \n",
      "We have the following \n"
     ]
    },
    {
     "cell_type": "code",
     "collapsed": false,
     "input": [],
     "language": "python",
     "metadata": {},
     "outputs": []
    }
   ],
   "metadata": {}
  }
 ]
}